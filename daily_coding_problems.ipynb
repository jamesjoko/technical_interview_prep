{
 "cells": [
  {
   "cell_type": "markdown",
   "metadata": {},
   "source": [
    "### This notebook documents my practice and solutions to the daily coding problems from the following site: https://www.dailycodingproblem.com/"
   ]
  },
  {
   "cell_type": "markdown",
   "metadata": {},
   "source": [
    "# Problem \\#1\n",
    "- Keywords: Two-Sum, hash map\n",
    "- Company: Google\n",
    "\n",
    "Problem: Given a list of numbers and a number k, return whether any two numbers from the list add up to k.\n",
    "For example, given [10, 15, 3, 7] and k of 17, return true since 10 + 7 is 17.\n"
   ]
  },
  {
   "cell_type": "code",
   "execution_count": null,
   "metadata": {},
   "outputs": [],
   "source": []
  },
  {
   "cell_type": "markdown",
   "metadata": {},
   "source": [
    "# Problem \\#2\n",
    "\n",
    "- Keywords:\n",
    "- Company: Uber\n",
    "\n",
    "Problem: Given an array of integers, return a new array such that each element at index i of the new array is the product of all the numbers in the original array except the one at i.\n",
    "For example, if our input was [1, 2, 3, 4, 5], the expected output would be [120, 60, 40, 30, 24]. If our input was [3, 2, 1], the expected output would be [2, 3, 6].\n",
    "\n",
    "Follow-up: what if you can't use division?"
   ]
  },
  {
   "cell_type": "markdown",
   "metadata": {},
   "source": [
    "# Problem \\#3\n",
    "\n",
    "- Keywords:\n",
    "- Company: Google\n",
    "\n",
    "Problem: Given the root to a binary tree, implement serialize(root), which serializes the tree into a string, and deserialize(s), which deserializes the string back into the tree.\n",
    "For example, given the following Node class:"
   ]
  },
  {
   "cell_type": "code",
   "execution_count": 1,
   "metadata": {},
   "outputs": [],
   "source": [
    "class Node:\n",
    "    def __init__(self, val, left=None, right=None):\n",
    "        self.val = val\n",
    "        self.left = left\n",
    "        self.right = right"
   ]
  },
  {
   "cell_type": "code",
   "execution_count": 2,
   "metadata": {},
   "outputs": [
    {
     "ename": "NameError",
     "evalue": "name 'deserialize' is not defined",
     "output_type": "error",
     "traceback": [
      "\u001b[1;31m---------------------------------------------------------------------------\u001b[0m",
      "\u001b[1;31mNameError\u001b[0m                                 Traceback (most recent call last)",
      "\u001b[1;32m<ipython-input-2-d8d47dd53911>\u001b[0m in \u001b[0;36m<module>\u001b[1;34m\u001b[0m\n\u001b[0;32m      1\u001b[0m \u001b[1;31m#The following test should pass:\u001b[0m\u001b[1;33m\u001b[0m\u001b[1;33m\u001b[0m\u001b[0m\n\u001b[0;32m      2\u001b[0m \u001b[0mnode\u001b[0m \u001b[1;33m=\u001b[0m \u001b[0mNode\u001b[0m\u001b[1;33m(\u001b[0m\u001b[1;34m'root'\u001b[0m\u001b[1;33m,\u001b[0m \u001b[0mNode\u001b[0m\u001b[1;33m(\u001b[0m\u001b[1;34m'left'\u001b[0m\u001b[1;33m,\u001b[0m \u001b[0mNode\u001b[0m\u001b[1;33m(\u001b[0m\u001b[1;34m'left.left'\u001b[0m\u001b[1;33m)\u001b[0m\u001b[1;33m)\u001b[0m\u001b[1;33m,\u001b[0m \u001b[0mNode\u001b[0m\u001b[1;33m(\u001b[0m\u001b[1;34m'right'\u001b[0m\u001b[1;33m)\u001b[0m\u001b[1;33m)\u001b[0m\u001b[1;33m\u001b[0m\u001b[0m\n\u001b[1;32m----> 3\u001b[1;33m \u001b[1;32massert\u001b[0m \u001b[0mdeserialize\u001b[0m\u001b[1;33m(\u001b[0m\u001b[0mserialize\u001b[0m\u001b[1;33m(\u001b[0m\u001b[0mnode\u001b[0m\u001b[1;33m)\u001b[0m\u001b[1;33m)\u001b[0m\u001b[1;33m.\u001b[0m\u001b[0mleft\u001b[0m\u001b[1;33m.\u001b[0m\u001b[0mleft\u001b[0m\u001b[1;33m.\u001b[0m\u001b[0mval\u001b[0m \u001b[1;33m==\u001b[0m \u001b[1;34m'left.left'\u001b[0m\u001b[1;33m\u001b[0m\u001b[0m\n\u001b[0m",
      "\u001b[1;31mNameError\u001b[0m: name 'deserialize' is not defined"
     ]
    }
   ],
   "source": [
    "#The following test should pass:\n",
    "node = Node('root', Node('left', Node('left.left')), Node('right'))\n",
    "assert deserialize(serialize(node)).left.left.val == 'left.left'"
   ]
  },
  {
   "cell_type": "markdown",
   "metadata": {},
   "source": [
    "# Problem \\#4\n",
    "\n",
    "- Keywords:\n",
    "- Company: Stripe\n",
    "\n",
    "Problem: Given an array of integers, find the first missing positive integer in linear time and constant space. In other words, find the lowest positive integer that does not exist in the array. The array can contain duplicates and negative numbers as well.\n",
    "\n",
    "For example, the input [3, 4, -1, 1] should give 2. The input [1, 2, 0] should give 3.\n",
    "\n",
    "You can modify the input array in-place.\n"
   ]
  },
  {
   "cell_type": "markdown",
   "metadata": {},
   "source": [
    "# Problem \\#5\n",
    "\n",
    "- Keywords:\n",
    "- Company: Jane Street\n",
    "\n",
    "Problem: cons(a, b) constructs a pair, and car(pair) and cdr(pair) returns the first and last element of that pair. For example, car(cons(3, 4)) returns 3, and cdr(cons(3, 4)) returns 4. Implement car and cdr."
   ]
  },
  {
   "cell_type": "code",
   "execution_count": 3,
   "metadata": {},
   "outputs": [],
   "source": [
    "def cons(a, b):\n",
    "    def pair(f):\n",
    "        return f(a, b)\n",
    "    return pair"
   ]
  },
  {
   "cell_type": "markdown",
   "metadata": {},
   "source": [
    "# Problem \\#6\n",
    "\n",
    "- Keywords:\n",
    "- Company: Google\n",
    "\n",
    "Problem: An XOR linked list is a more memory efficient doubly linked list. Instead of each node holding next and prev fields, it holds a field named both, which is an XOR of the next node and the previous node. Implement an XOR linked list; it has an add(element) which adds the element to the end, and a get(index) which returns the node at index.\n",
    "\n",
    "If using a language that has no pointers (such as Python), you can assume you have access to get_pointer and dereference_pointer functions that converts between nodes and memory addresses.\n"
   ]
  },
  {
   "cell_type": "markdown",
   "metadata": {},
   "source": [
    "# Problem \\#7\n",
    "\n",
    "- Keywords: \n",
    "- Company: Facebook (Meta)\n",
    "\n",
    "Problem: Given the mapping a = 1, b = 2, ... z = 26, and an encoded message, count the number of ways it can be decoded.\n",
    "\n",
    "For example, the message '111' would give 3, since it could be decoded as 'aaa', 'ka', and 'ak'.\n",
    "\n",
    "You can assume that the messages are decodable. For example, '001' is not allowed.\n"
   ]
  },
  {
   "cell_type": "markdown",
   "metadata": {},
   "source": [
    "# Problem \\#8\n",
    "\n",
    "- Keywords:\n",
    "- Company: Google\n",
    "\n",
    "Problem: A unival tree (which stands for \"universal value\") is a tree where all nodes under it have the same value.\n",
    "Given the root to a binary tree, count the number of unival subtrees.\n",
    "\n",
    "For example, the following tree has 5 unival subtrees:"
   ]
  },
  {
   "cell_type": "raw",
   "metadata": {},
   "source": [
    "   0\n",
    "  / \\\n",
    " 1   0\n",
    "    / \\\n",
    "   1   0\n",
    "  / \\\n",
    " 1   1"
   ]
  },
  {
   "cell_type": "code",
   "execution_count": null,
   "metadata": {},
   "outputs": [],
   "source": []
  },
  {
   "cell_type": "markdown",
   "metadata": {},
   "source": [
    "# Problem \\#9\n",
    "\n",
    "- Keywords: Dynamic Programming\n",
    "- Company: Airbnb\n",
    "\n",
    "Problem: Given a list of integers, write a function that returns the largest sum of non-adjacent numbers. Numbers can be 0 or negative.\n",
    "\n",
    "For example, [2, 4, 6, 2, 5] should return 13, since we pick 2, 6, and 5. [5, 1, 1, 5] should return 10, since we pick 5 and 5.\n",
    "\n",
    "Follow-up: Can you do this in O(N) time and constant space?\n"
   ]
  },
  {
   "cell_type": "markdown",
   "metadata": {},
   "source": [
    "# Problem \\#10\n",
    "\n",
    "- Keywords:\n",
    "- Company: Apple\n",
    "\n",
    "Problem: Implement a job scheduler which takes in a function f and an integer n, and calls f after n milliseconds."
   ]
  },
  {
   "cell_type": "markdown",
   "metadata": {},
   "source": [
    "# Problem \\#11\n",
    "\n",
    "- Keywords: Trie\n",
    "- Company: Twitter\n",
    "\n",
    "Problem: Implement an autocomplete system. That is, given a query string s and a set of all possible query strings, return all strings in the set that have s as a prefix.\n",
    "\n",
    "For example, given the query string de and the set of strings [dog, deer, deal], return [deer, deal].\n",
    "\n",
    "Hint: Try preprocessing the dictionary into a more efficient data structure to speed up queries.\n"
   ]
  },
  {
   "cell_type": "markdown",
   "metadata": {},
   "source": [
    "# Problem \\#12\n",
    "\n",
    "- Keywords: Recursion\n",
    "- Company: Amazon\n",
    "\n",
    "Problem: There exists a staircase with N steps, and you can climb up either 1 or 2 steps at a time. Given N, write a function that returns the number of unique ways you can climb the staircase. The order of the steps matters.\n",
    "\n",
    "For example, if N is 4, then there are 5 unique ways:\n",
    "\n",
    "•\t1, 1, 1, 1\n",
    "\n",
    "•\t2, 1, 1\n",
    "\n",
    "•\t1, 2, 1\n",
    "\n",
    "•\t1, 1, 2\n",
    "\n",
    "•\t2, 2\n",
    "\n",
    "What if, instead of being able to climb 1 or 2 steps at a time, you could climb any number from a set of positive integers X? For example, if X = {1, 3, 5}, you could climb 1, 3, or 5 steps at a time.\n"
   ]
  },
  {
   "cell_type": "markdown",
   "metadata": {},
   "source": [
    "# Problem \\#13\n",
    "\n",
    "- Keywords:\n",
    "- Company: Amazon\n",
    "\n",
    "Problem: Given an integer k and a string s, find the length of the longest substring that contains at most k distinct characters.\n",
    "\n",
    "For example, given s = \"abcba\" and k = 2, the longest substring with k distinct characters is \"bcb\"."
   ]
  },
  {
   "cell_type": "markdown",
   "metadata": {},
   "source": [
    "# Problem \\#14\n",
    "\n",
    "- Keywords:\n",
    "- Company: Google\n",
    "\n",
    "Problem: The area of a circle is defined as πr^2. Estimate π to 3 decimal places using a Monte Carlo method.\n",
    "\n",
    "Hint: The basic equation of a circle is x2 + y2 = r2."
   ]
  },
  {
   "cell_type": "markdown",
   "metadata": {},
   "source": [
    "# Problem \\#15\n",
    "- Keywords: Reservoir Sampling\n",
    "- Company: Facebook (Meta)\n",
    "\n",
    "Problem: Given a stream of elements too large to store in memory, pick a random element from the stream with uniform probability.\n",
    "\n"
   ]
  },
  {
   "cell_type": "markdown",
   "metadata": {},
   "source": [
    "This problem is an example of reservoir sampling with k = 1, I learned about this algorithm in my CS 490LDA: Large Scale Data Analytics class during my undergaduate study at Purdue."
   ]
  },
  {
   "cell_type": "markdown",
   "metadata": {},
   "source": [
    "# Problem \\#16\n",
    "\n",
    "- Keywords: \n",
    "- Company: Twitter\n",
    "\n",
    "Problem: You run an e-commerce website and want to record the last N order ids in a log. Implement a data structure to accomplish this, with the following API:\n",
    "\n",
    "•\trecord(order_id): adds the order_id to the log\n",
    "\n",
    "•\tget_last(i): gets the ith last element from the log. i is guaranteed to be smaller than or equal to N.\n",
    "\n",
    "You should be as efficient with time and space as possible.\n"
   ]
  },
  {
   "cell_type": "markdown",
   "metadata": {},
   "source": [
    "# Problem \\#17\n",
    "\n",
    "- Keywords: \n",
    "- Company: Google\n",
    "\n",
    "Problem: Suppose we represent our file system by a string in the following manner:\n",
    "\n",
    "The string \"dir\\n\\tsubdir1\\n\\tsubdir2\\n\\t\\tfile.ext\" represents:"
   ]
  },
  {
   "cell_type": "raw",
   "metadata": {},
   "source": [
    "dir\n",
    "    subdir1\n",
    "    subdir2\n",
    "        file.ext"
   ]
  },
  {
   "cell_type": "markdown",
   "metadata": {},
   "source": [
    "The directory dir contains an empty sub-directory subdir1 and a sub-directory subdir2 containing a file file.ext.\n",
    "\n",
    "The string \"dir\\n\\tsubdir1\\n\\t\\tfile1.ext\\n\\t\\tsubsubdir1\\n\\tsubdir2\\n\\t\\tsubsubdir2\\n\\t\\t\\tfile2.ext\" represents:"
   ]
  },
  {
   "cell_type": "raw",
   "metadata": {},
   "source": [
    "dir\n",
    "    subdir1\n",
    "        file1.ext\n",
    "        subsubdir1\n",
    "    subdir2\n",
    "        subsubdir2\n",
    "            file2.ext"
   ]
  },
  {
   "cell_type": "markdown",
   "metadata": {},
   "source": [
    "The directory dir contains two sub-directories subdir1 and subdir2. subdir1 contains a file file1.ext and an empty second-level sub-directory subsubdir1. subdir2 contains a second-level sub-directory subsubdir2 containing a file file2.ext.\n",
    "\n",
    "We are interested in finding the longest (number of characters) absolute path to a file within our file system. For example, in the second example above, the longest absolute path is \"dir/subdir2/subsubdir2/file2.ext\", and its length is 32 (not including the double quotes).\n",
    "\n",
    "Given a string representing the file system in the above format, return the length of the longest absolute path to a file in the abstracted file system. If there is no file in the system, return 0.\n",
    "\n",
    "Note:\n",
    "\n",
    "The name of a file contains at least a period and an extension.\n",
    "\n",
    "The name of a directory or sub-directory will not contain a period.\n"
   ]
  },
  {
   "cell_type": "markdown",
   "metadata": {},
   "source": [
    "# Problem \\#18\n",
    "\n",
    "- Keywords: Deque (Double-ended queue)\n",
    "- Company: Google\n",
    "\n",
    "Problem: Given an array of integers and a number k, where 1 <= k <= length of the array, compute the maximum values of each subarray of length k.\n",
    "\n",
    "For example, given array = [10, 5, 2, 7, 8, 7] and k = 3, we should get: [10, 7, 8, 8], since:\n",
    "\n",
    "- 10 = max(10, 5, 2)\n",
    "- 7 = max(5, 2, 7)\n",
    "- 8 = max(2, 7, 8)\n",
    "- 8 = max(7, 8, 7)\n",
    "\n",
    "Do this in O(n) time and O(k) space. You can modify the input array in-place and you do not need to store the results. You can simply print them out as you compute them.\n"
   ]
  },
  {
   "cell_type": "markdown",
   "metadata": {},
   "source": [
    "# Problem \\#19\n",
    "\n",
    "- Keywords: Dynamic Programming\n",
    "- Company: Facebook (Meta)\n",
    "\n",
    "Problem: A builder is looking to build a row of N houses that can be of K different colors. He has a goal of minimizing cost while ensuring that no two neighboring houses are of the same color.\n",
    "\n",
    "Given an N by K matrix where the nth row and kth column represents the cost to build the nth house with kth color, return the minimum cost which achieves this goal."
   ]
  },
  {
   "cell_type": "markdown",
   "metadata": {},
   "source": [
    "# Problem \\#20\n",
    "\n",
    "- Keywords: \n",
    "- Company: Google\n",
    "\n",
    "Problem: Given two singly linked lists that intersect at some point, find the intersecting node. The lists are non-cyclical.\n",
    "\n",
    "For example, given A = 3 -> 7 -> 8 -> 10 and B = 99 -> 1 -> 8 -> 10, return the node with value 8.\n",
    "\n",
    "In this example, assume nodes with the same value are the exact same node objects.\n",
    "\n",
    "Do this in O(M + N) time (where M and N are the lengths of the lists) and constant space.\n"
   ]
  },
  {
   "cell_type": "markdown",
   "metadata": {},
   "source": [
    "***\n",
    "For this problem, we know that the two linked lists will have a shared list of nodes ending at both lists' tails. Ex. both example lists contain 8 -> 10 -> NULL. We can use this to our advantage because we always know that there will be at least k nodes before the interscection. If one of the lists is longer than the other, shave off a few nodes of the longer list to align the intersecting node at the same position of traversal. Then, traverse both lists one node at a time until the values match and finding the intersecting node."
   ]
  },
  {
   "cell_type": "code",
   "execution_count": null,
   "metadata": {},
   "outputs": [],
   "source": []
  },
  {
   "cell_type": "markdown",
   "metadata": {},
   "source": [
    "# Problem \\#21\n",
    "\n",
    "- Keywords: Unweighted Interval Scheduling, Earliest Deadline First Scheduling, Priority Queue\n",
    "- Company: Snapchat\n",
    "\n",
    "Problem: Given an array of time intervals (start, end) for classroom lectures (possibly overlapping), find the minimum number of rooms required.\n",
    "\n",
    "For example, given [(30, 75), (0, 50), (60, 150)], you should return 2."
   ]
  },
  {
   "cell_type": "markdown",
   "metadata": {},
   "source": [
    "***\n",
    "I had this problem in my CS 381: Analysis of Algorithms class during my undergraduate study at Purdue. This problem was introduced during the \"greedy algorithms\" unit, as we proved the other greedy algorithms that chose intervals with the earliest start date, least conflicts, and shortest duration were not optimal."
   ]
  },
  {
   "cell_type": "markdown",
   "metadata": {},
   "source": [
    "# Problem \\#22\n",
    "\n",
    "- Keywords: Trie, Dynamic Programming\n",
    "- Company: Microsoft\n",
    "\n",
    "Problem: Given a dictionary of words and a string made up of those words (no spaces), return the original sentence in a list. If there is more than one possible reconstruction, return any of them. If there is no possible reconstruction, then return null.\n",
    "\n",
    "For example, given the set of words 'quick', 'brown', 'the', 'fox', and the string \"thequickbrownfox\", you should return ['the', 'quick', 'brown', 'fox'].\n",
    "\n",
    "Given the set of words 'bed', 'bath', 'bedbath', 'and', 'beyond', and the string \"bedbathandbeyond\", return either ['bed', 'bath', 'and', 'beyond] or ['bedbath', 'and', 'beyond'].\n"
   ]
  },
  {
   "cell_type": "markdown",
   "metadata": {},
   "source": [
    "# Problem \\#29\n",
    "\n",
    "- Keywords: \n",
    "- Company: Amazon\n",
    "\n",
    "Problem: \n",
    "\n",
    "Run-length encoding is a fast and simple method of encoding strings. The basic idea is to represent repeated successive characters as a single count and character. For example, the string \"AAAABBBCCDAA\" would be encoded as \"4A3B2C1D2A\".\n",
    "\n",
    "Implement run-length encoding and decoding. You can assume the string to be encoded have no digits and consists solely of alphabetic characters. You can assume the string to be decoded is valid."
   ]
  },
  {
   "cell_type": "markdown",
   "metadata": {},
   "source": [
    "# Problem \\#43\n",
    "\n",
    "- Keywords: \n",
    "- Company: Amazon\n",
    "\n",
    "Problem: \n",
    "\n",
    "Implement a stack that has the following methods:\n",
    "\n",
    "push(val), which pushes an element onto the stack\n",
    "pop(), which pops off and returns the topmost element of the stack. If there are no elements in the stack, then it should throw an error or return null.\n",
    "max(), which returns the maximum value in the stack currently. If there are no elements in the stack, then it should throw an error or return null.\n",
    "Each method should run in constant time."
   ]
  },
  {
   "cell_type": "code",
   "execution_count": 3,
   "metadata": {},
   "outputs": [],
   "source": [
    "class maxStack():\n",
    "    def __init__(self):\n",
    "        self.stack = []\n",
    "        self.maxes = []\n",
    "    \n",
    "    def push(val):\n",
    "        if len(stack) == 0:\n",
    "            stack.append(val)\n",
    "            maxes.append(val)\n",
    "        else:\n",
    "            stack.append(val)\n",
    "            if maxes.peek() < val:\n",
    "                maxes.append(val)\n",
    "            else:\n",
    "                maxes.append(maxes.peek())\n",
    "    \n",
    "    def pop():\n",
    "        maxes.pop()\n",
    "        return stack.pop()\n",
    "        \n",
    "    def max():\n",
    "        return maxes.peek()"
   ]
  },
  {
   "cell_type": "code",
   "execution_count": null,
   "metadata": {},
   "outputs": [],
   "source": []
  },
  {
   "cell_type": "markdown",
   "metadata": {},
   "source": [
    "# Problem \\#46\n",
    "\n",
    "- Keywords: \n",
    "- Company: Amazon\n",
    "\n",
    "Problem: \n",
    "\n",
    "Given a string, find the longest palindromic contiguous substring. If there are more than one with the maximum length, return any one.\n",
    "\n",
    "For example, the longest palindromic substring of \"aabcdcb\" is \"bcdcb\". The longest palindromic substring of \"bananas\" is \"anana\"."
   ]
  },
  {
   "cell_type": "markdown",
   "metadata": {},
   "source": [
    "# Problem \\#49\n",
    "\n",
    "- Keywords: \n",
    "- Company: Amazon\n",
    "\n",
    "Problem: \n",
    "\n",
    "Given an array of numbers, find the maximum sum of any contiguous subarray of the array.\n",
    "\n",
    "For example, given the array [34, -50, 42, 14, -5, 86], the maximum sum would be 137, since we would take elements 42, 14, -5, and 86.\n",
    "\n",
    "Given the array [-5, -1, -8, -9], the maximum sum would be 0, since we would not take any elements.\n",
    "\n",
    "Do this in O(N) time."
   ]
  },
  {
   "cell_type": "markdown",
   "metadata": {},
   "source": [
    "# Problem \\#57\n",
    "\n",
    "- Keywords: \n",
    "- Company: \n",
    "\n",
    "Problem: \n",
    "\n",
    "Given a string s and an integer k, break up the string into multiple lines such that each line has a length of k or less. You must break it up so that words don't break across lines. Each line has to have the maximum possible amount of words. If there's no way to break the text up, then return null.\n",
    "\n",
    "You can assume that there are no spaces at the ends of the string and that there is exactly one space between each word.\n",
    "\n",
    "For example, given the string \"the quick brown fox jumps over the lazy dog\" and k = 10, you should return: [\"the quick\", \"brown fox\", \"jumps over\", \"the lazy\", \"dog\"]. No string in the list has a length of more than 10."
   ]
  },
  {
   "cell_type": "markdown",
   "metadata": {},
   "source": [
    "# Problem \\#58\n",
    "\n",
    "- Keywords: \n",
    "- Company: Amazon\n",
    "\n",
    "Problem: \n",
    "\n",
    "An sorted array of integers was rotated an unknown number of times.\n",
    "\n",
    "Given such an array, find the index of the element in the array in faster than linear time. If the element doesn't exist in the array, return null.\n",
    "\n",
    "For example, given the array [13, 18, 25, 2, 8, 10] and the element 8, return 4 (the index of 8 in the array).\n",
    "\n",
    "You can assume all the integers in the array are unique."
   ]
  },
  {
   "cell_type": "markdown",
   "metadata": {},
   "source": [
    "# Problem \\#65\n",
    "\n",
    "- Keywords: \n",
    "- Company: Amazon\n",
    "\n",
    "Problem: Given a N by M matrix of numbers, print out the matrix in a clockwise spiral."
   ]
  },
  {
   "cell_type": "code",
   "execution_count": 5,
   "metadata": {},
   "outputs": [
    {
     "name": "stdout",
     "output_type": "stream",
     "text": [
      "1 2 3 4 5 6 7 8 9 10 11 12 13 14 15 16 17 18 19 20 \n"
     ]
    }
   ],
   "source": [
    "arr = [[1,  2,  3,  4,  5],\n",
    "       [14,  15,  16,  17,  6],\n",
    "       [13, 20, 19, 18, 7],\n",
    "       [12, 11, 10, 9, 8]]\n",
    "# arr = [[1,  2,  3,  4],\n",
    "#        [8,  7,  6,  5]]\n",
    "row_lower = 0\n",
    "row_upper = len(arr)\n",
    "col_lower = 0\n",
    "col_upper = len(arr[0])\n",
    "result = \"\"\n",
    "while True:\n",
    "    # col ascending\n",
    "    for i in range(col_lower, col_upper):\n",
    "        result += str(arr[row_lower][i]) + \" \"\n",
    "    row_lower += 1\n",
    "    if row_lower == row_upper:\n",
    "        break\n",
    "    #row ascending\n",
    "    for i in range(row_lower, row_upper):\n",
    "        result += str(arr[i][col_upper-1]) + \" \"\n",
    "    col_upper -= 1\n",
    "    if row_lower == row_upper:\n",
    "        break\n",
    "    #col decending\n",
    "    for i in range(col_upper-1, col_lower-1, -1):\n",
    "        result += str(arr[row_upper-1][i]) + \" \"\n",
    "    row_upper -= 1\n",
    "    if row_lower == row_upper:\n",
    "        break\n",
    "    # #row decending\n",
    "    for i in range(row_upper-1, row_lower-1, -1):\n",
    "        result += str(arr[i][col_lower]) + \" \"\n",
    "    col_lower += 1\n",
    "    if row_lower == row_upper:\n",
    "        break\n",
    "print(result)"
   ]
  },
  {
   "cell_type": "markdown",
   "metadata": {},
   "source": [
    "# Problem \\#84\n",
    "\n",
    "- Keywords: \n",
    "- Company: Amazon\n",
    "\n",
    "Problem: \n",
    "\n",
    "Given a matrix of 1s and 0s, return the number of \"islands\" in the matrix. A 1 represents land and 0 represents water, so an island is a group of 1s that are neighboring whose perimeter is surrounded by water.\n",
    "\n",
    "For example, this matrix has 4 islands."
   ]
  },
  {
   "cell_type": "code",
   "execution_count": 15,
   "metadata": {},
   "outputs": [
    {
     "name": "stdout",
     "output_type": "stream",
     "text": [
      "4\n"
     ]
    }
   ],
   "source": [
    "arr = [[1, 0, 0, 0, 0],\n",
    "       [0, 0, 1, 1, 0],\n",
    "       [0, 1, 1, 0, 0],\n",
    "       [0, 0, 0, 0, 0],\n",
    "       [1, 1, 0, 0, 1],\n",
    "       [1, 1, 0, 0, 1]]\n",
    "\n",
    "def spread(row, col, arr):\n",
    "    # print(str(row) + \" \" + str(col))\n",
    "    if row < 0 or col < 0 or row >= len(arr) or col >= len(arr[0]) or arr[row][col] != 1:\n",
    "        return\n",
    "    if (arr[row][col] == 1):\n",
    "        arr[row][col] = 0\n",
    "        spread(row-1, col, arr)\n",
    "        spread(row, col+1, arr)\n",
    "        spread(row+1, col, arr)\n",
    "        spread(row, col-1, arr)\n",
    "        return\n",
    "\n",
    "num_islands = 0\n",
    "for row in range(len(arr)):\n",
    "    for col in range(len(arr[0])):\n",
    "        if (arr[row][col] == 1):\n",
    "            spread(row, col, arr)\n",
    "            num_islands += 1\n",
    "print(num_islands)"
   ]
  },
  {
   "cell_type": "markdown",
   "metadata": {},
   "source": [
    "# Problem \\#X\n",
    "\n",
    "- Keywords: \n",
    "- Company: \n",
    "\n",
    "Problem: "
   ]
  }
 ],
 "metadata": {
  "kernelspec": {
   "display_name": "Python 3",
   "language": "python",
   "name": "python3"
  },
  "language_info": {
   "codemirror_mode": {
    "name": "ipython",
    "version": 3
   },
   "file_extension": ".py",
   "mimetype": "text/x-python",
   "name": "python",
   "nbconvert_exporter": "python",
   "pygments_lexer": "ipython3",
   "version": "3.7.0"
  }
 },
 "nbformat": 4,
 "nbformat_minor": 5
}
