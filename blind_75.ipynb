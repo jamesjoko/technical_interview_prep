{
 "cells": [
  {
   "cell_type": "markdown",
   "id": "36587285",
   "metadata": {},
   "source": [
    "# Arrays\n",
    "## Two Sum"
   ]
  },
  {
   "cell_type": "code",
   "execution_count": null,
   "id": "a0e9e6ab",
   "metadata": {},
   "outputs": [],
   "source": [
    "def twoSum(self, nums: List[int], target: int) -> List[int]:\n",
    "    remainders = {}\n",
    "    for i in range(len(nums)):\n",
    "        if nums[i] in remainders:\n",
    "            return [remainders[nums[i]], i]\n",
    "        else:\n",
    "            remainders[target-nums[i]] = i\n",
    "    return None"
   ]
  },
  {
   "cell_type": "markdown",
   "id": "0c5c1179",
   "metadata": {},
   "source": [
    "## Best Time to Buy and Sell Stock"
   ]
  },
  {
   "cell_type": "code",
   "execution_count": null,
   "id": "1c9201c2",
   "metadata": {},
   "outputs": [],
   "source": [
    "def maxProfit(self, prices: List[int]) -> int:\n",
    "    min_price = prices[0]\n",
    "    max_profit = 0\n",
    "    for price in prices[1:]:\n",
    "        if price > min_price:\n",
    "            max_profit = max(max_profit, price - min_price)\n",
    "        else:\n",
    "            min_price = price\n",
    "    return max_profit"
   ]
  },
  {
   "cell_type": "markdown",
   "id": "630a0500",
   "metadata": {},
   "source": [
    "## Contains Duplicate"
   ]
  },
  {
   "cell_type": "code",
   "execution_count": null,
   "id": "8c8594b1",
   "metadata": {},
   "outputs": [],
   "source": [
    "# Theoritically quicker but more memory\n",
    "def containsDuplicate(self, nums: List[int]) -> bool:\n",
    "    history = set()\n",
    "    for num in nums:\n",
    "        if num in history:\n",
    "            return True\n",
    "        history.add(num)\n",
    "\n",
    "    return False"
   ]
  },
  {
   "cell_type": "code",
   "execution_count": null,
   "id": "65365cf0",
   "metadata": {},
   "outputs": [],
   "source": [
    "def containsDuplicate(self, nums: List[int]) -> bool:\n",
    "    return len(set(nums)) != len(nums)"
   ]
  },
  {
   "cell_type": "markdown",
   "id": "042efa71",
   "metadata": {},
   "source": [
    "## Product of Array Except Self"
   ]
  },
  {
   "cell_type": "code",
   "execution_count": null,
   "id": "718f76a9",
   "metadata": {},
   "outputs": [],
   "source": [
    "def productExceptSelf(self, nums: List[int]) -> List[int]:\n",
    "    products = [1] * len(nums)\n",
    "    for i in range(1, len(products)):\n",
    "        products[i] = products[i-1] * nums[i-1]\n",
    "\n",
    "    right = nums[-1]\n",
    "    for i in range(len(products)-2, -1, -1):\n",
    "        products[i] = products[i] * right\n",
    "        right *= nums[i]\n",
    "\n",
    "    return products"
   ]
  },
  {
   "cell_type": "markdown",
   "id": "b965af6b",
   "metadata": {},
   "source": [
    "## Maximum Subarray"
   ]
  },
  {
   "cell_type": "code",
   "execution_count": null,
   "id": "cb220591",
   "metadata": {},
   "outputs": [],
   "source": [
    "def maxSubArray(self, nums: List[int]) -> int:\n",
    "    max_sum = float(\"-inf\")\n",
    "    curr_sum = 0\n",
    "    for num in nums:\n",
    "        curr_sum += num\n",
    "        max_sum = max(curr_sum, max_sum)\n",
    "        if curr_sum < 0:\n",
    "            curr_sum = 0\n",
    "    return max_sum"
   ]
  },
  {
   "cell_type": "markdown",
   "id": "c60a2277",
   "metadata": {},
   "source": [
    "## Maximum Product Subarray"
   ]
  },
  {
   "cell_type": "code",
   "execution_count": null,
   "id": "e42e727e",
   "metadata": {},
   "outputs": [],
   "source": [
    "def maxProduct(self, nums: List[int]) -> int:\n",
    "    currMaxProd = nums[0]\n",
    "    currMinProd = nums[0]\n",
    "    result = nums[0]\n",
    "    for i in range(1, len(nums)):\n",
    "        options = [nums[i], currMaxProd*nums[i], currMinProd*nums[i]]\n",
    "        currMaxProd = max(options)\n",
    "        currMinProd = min(options)\n",
    "        result = max(result, currMaxProd)\n",
    "    return result"
   ]
  },
  {
   "cell_type": "markdown",
   "id": "7929475a",
   "metadata": {},
   "source": [
    "## Find Minimum in Rotated Sorted Array"
   ]
  },
  {
   "cell_type": "code",
   "execution_count": null,
   "id": "c0b24706",
   "metadata": {},
   "outputs": [],
   "source": [
    "def findMin(self, nums: List[int]) -> int:\n",
    "    left = 0\n",
    "    right = len(nums)-1\n",
    "    while left < right:\n",
    "        mid = (left + right)//2\n",
    "\n",
    "        if nums[mid] > nums[right]:\n",
    "            left = mid + 1\n",
    "        else:\n",
    "            right = mid\n",
    "    return nums[left]"
   ]
  },
  {
   "cell_type": "markdown",
   "id": "fadbf671",
   "metadata": {},
   "source": [
    "## Three Sum"
   ]
  },
  {
   "cell_type": "code",
   "execution_count": null,
   "id": "c9aaf2af",
   "metadata": {},
   "outputs": [],
   "source": [
    "def threeSum(self, nums: List[int]) -> List[List[int]]:\n",
    "    nums.sort()\n",
    "    result = []\n",
    "    for i in range(len(nums) - 2):\n",
    "        if nums[i] > 0:\n",
    "            break\n",
    "        if i > 0 and nums[i] == nums[i-1]:\n",
    "            continue\n",
    "        left = i+1\n",
    "        right = len(nums)-1\n",
    "        while left < right:\n",
    "            if nums[i] + nums[left] + nums[right] == 0:\n",
    "                triplet = [nums[i], nums[left], nums[right]]          \n",
    "                result.append(triplet)\n",
    "                while left < right and nums[left] == triplet[1]:\n",
    "                    left += 1        \n",
    "                while left < right and nums[right] == triplet[2]:\n",
    "                    right -= 1\n",
    "            elif nums[i] + nums[left] + nums[right] < 0:\n",
    "                left += 1\n",
    "            else:\n",
    "                right -= 1\n",
    "    return result"
   ]
  },
  {
   "cell_type": "markdown",
   "id": "f94677ce",
   "metadata": {},
   "source": [
    "# Dynamic\n",
    "## Climbing Stairs"
   ]
  },
  {
   "cell_type": "code",
   "execution_count": null,
   "id": "f33dba91",
   "metadata": {},
   "outputs": [],
   "source": [
    "def climbStairs(self, n: int) -> int:\n",
    "    if n == 0 or n == 1:\n",
    "        return 1\n",
    "\n",
    "    prev = 1\n",
    "    curr = 1\n",
    "\n",
    "    for i in range(2, n+1):\n",
    "        temp = curr\n",
    "        curr = curr + prev\n",
    "        prev = temp\n",
    "\n",
    "    return curr"
   ]
  },
  {
   "cell_type": "markdown",
   "id": "9270d63d",
   "metadata": {},
   "source": [
    "# Strings\n",
    "## Longest Substring w/o Repeating Characters"
   ]
  },
  {
   "cell_type": "code",
   "execution_count": null,
   "id": "54727885",
   "metadata": {},
   "outputs": [],
   "source": [
    "def lengthOfLongestSubstring(self, s: str) -> int:\n",
    "    seen = {}\n",
    "    abs_max = 0\n",
    "    start = 0\n",
    "    for idx, char in enumerate(s):\n",
    "        if char in seen:\n",
    "            start = max(start, seen[char] + 1)\n",
    "        seen[char] = idx\n",
    "        abs_max = max(abs_max, idx - start + 1)\n",
    "    return abs_max"
   ]
  },
  {
   "cell_type": "markdown",
   "id": "7c7db719",
   "metadata": {},
   "source": [
    "## Longest Repeating Character Replacement"
   ]
  },
  {
   "cell_type": "code",
   "execution_count": null,
   "id": "e3bcf866",
   "metadata": {},
   "outputs": [],
   "source": [
    "def characterReplacement(self, s: str, k: int) -> int:\n",
    "    seen = {}\n",
    "\n",
    "    result = 0\n",
    "    left = 0\n",
    "    window_max_same_chars = 0\n",
    "\n",
    "    for right, char in enumerate(s):\n",
    "        seen[char] = seen.get(char, 0) + 1\n",
    "        window_max_same_chars = max(window_max_same_chars, seen[char])\n",
    "\n",
    "        # How many characters would we need to change? Is it > k? If so, slide window\n",
    "        if right - left + 1 - window_max_same_chars > k:\n",
    "            seen[s[left]] -= 1\n",
    "            left += 1\n",
    "        else:\n",
    "            result = max(result, right-left+1)\n",
    "    return result"
   ]
  },
  {
   "cell_type": "markdown",
   "id": "751816bd",
   "metadata": {},
   "source": [
    "## Valid Anagram"
   ]
  },
  {
   "cell_type": "code",
   "execution_count": null,
   "id": "27e544e5",
   "metadata": {},
   "outputs": [],
   "source": [
    "def isAnagram(self, s: str, t: str) -> bool:\n",
    "    if len(s) != len(t):\n",
    "        return False\n",
    "    return Counter(s) ==  Counter(t)"
   ]
  },
  {
   "cell_type": "markdown",
   "id": "160780ee",
   "metadata": {},
   "source": [
    "## Valid Parentheses"
   ]
  },
  {
   "cell_type": "code",
   "execution_count": null,
   "id": "17e264c2",
   "metadata": {},
   "outputs": [],
   "source": [
    "def isValid(self, s: str) -> bool:\n",
    "    stack = []\n",
    "    for char in s:\n",
    "        if char == \"(\" or char == \"[\" or char == \"{\":\n",
    "            stack.append(char)\n",
    "        else:\n",
    "            if len(stack) == 0:\n",
    "                return False\n",
    "            end = stack.pop()\n",
    "            if (char == \")\" and end != \"(\") or (char == \"]\" and end != \"[\") or (char == \"}\" and end != \"{\"):\n",
    "                return False\n",
    "    return len(stack) == 0"
   ]
  },
  {
   "cell_type": "markdown",
   "id": "dfacf4c5",
   "metadata": {},
   "source": [
    "## Valid Palindrome\n"
   ]
  },
  {
   "cell_type": "code",
   "execution_count": null,
   "id": "76006f33",
   "metadata": {},
   "outputs": [],
   "source": [
    "def isPalindrome(self, s: str) -> bool:\n",
    "    s = \"\".join([char for char in s if char.isalnum()]).lower()\n",
    "    return s == s[::-1]"
   ]
  },
  {
   "cell_type": "markdown",
   "id": "c11ed766",
   "metadata": {},
   "source": [
    "## Group Anagrams"
   ]
  },
  {
   "cell_type": "code",
   "execution_count": null,
   "id": "a0dbc7b7",
   "metadata": {},
   "outputs": [],
   "source": [
    "def groupAnagrams(self, strs: List[str]) -> List[List[str]]:\n",
    "    words = {}\n",
    "    for word in strs:\n",
    "        root = \"\".join(sorted(word))\n",
    "        if root not in words:\n",
    "            words[root] = [word]\n",
    "        else:    \n",
    "            words[root].append(word)\n",
    "    return words.values()"
   ]
  },
  {
   "cell_type": "markdown",
   "id": "2f58e41a",
   "metadata": {},
   "source": [
    "## Longest Palindromic Substring\n",
    "DP solution is O(N^2) space and time\n",
    "\n",
    "Expand solution is O(N^2) time and O(1) space\n",
    "\n",
    "O(N) runtime and space possible using [Manacher's algorithm](https://en.wikipedia.org/wiki/Longest_palindromic_substring#Manacher's_algorithm)\n",
    "- [Explanation](https://zhuhongcheng.wordpress.com/2009/08/02/a-simple-linear-time-algorithm-for-finding-longest-palindrome-sub-string/)"
   ]
  },
  {
   "cell_type": "code",
   "execution_count": null,
   "id": "ba4467a5",
   "metadata": {},
   "outputs": [],
   "source": [
    "def longestPalindrome(self, s: str) -> str:\n",
    "    def expand(left, right):            \n",
    "        while left >= 0 and right < len(s) and s[left] == s[right]:\n",
    "            left -= 1\n",
    "            right += 1\n",
    "\n",
    "        return right - left - 1\n",
    "\n",
    "    result = [0, 0]\n",
    "\n",
    "    for i in range(len(s)):\n",
    "        odd_length = expand(i, i)\n",
    "        if odd_length > result[1] - result[0] + 1:\n",
    "            dist = odd_length // 2\n",
    "            result = [i - dist, i + dist]\n",
    "\n",
    "        even_length = expand(i, i + 1)\n",
    "        if even_length > result[1] - result[0] + 1:\n",
    "            dist = (even_length // 2) - 1\n",
    "            result = [i - dist, i + 1 + dist]\n",
    "\n",
    "    return s[result[0]:result[1] + 1]"
   ]
  },
  {
   "cell_type": "markdown",
   "id": "fd30a92a",
   "metadata": {},
   "source": [
    "## Palindromic Substrings\n"
   ]
  },
  {
   "cell_type": "code",
   "execution_count": null,
   "id": "2ee3876b",
   "metadata": {},
   "outputs": [],
   "source": [
    "def countSubstrings(self, s: str) -> int:\n",
    "    def expand(left, right):\n",
    "        num_pal = 0           \n",
    "        while left >= 0 and right < len(s) and s[left] == s[right]:\n",
    "            left -= 1\n",
    "            right += 1\n",
    "            num_pal += 1\n",
    "\n",
    "        return num_pal\n",
    "\n",
    "    result = 0\n",
    "\n",
    "    for i in range(len(s)):\n",
    "        result += expand(i, i) + expand(i, i + 1)\n",
    "\n",
    "    return result"
   ]
  },
  {
   "cell_type": "markdown",
   "id": "904533d3",
   "metadata": {},
   "source": [
    "## Encode And Decode Strings\n",
    "Design an algorithm to encode a list of strings to a string. The encoded string is then sent over the network and is decoded back to the original list of strings."
   ]
  },
  {
   "cell_type": "code",
   "execution_count": 6,
   "id": "8dcd36e7",
   "metadata": {},
   "outputs": [],
   "source": [
    "def encode(s: list) -> str:\n",
    "    encoded = \"\"\n",
    "    for word in s:\n",
    "        encoded += str(len(word)) + \"#\" + word\n",
    "    return encoded\n",
    "\n",
    "def decode(s: str) -> list[str]:\n",
    "    decoded = []\n",
    "    idx = 0\n",
    "    while idx < len(s):\n",
    "        length_str = \"\"\n",
    "        while s[idx] != \"#\":\n",
    "            length_str += s[idx]\n",
    "            idx += 1\n",
    "        idx += 1\n",
    "        length_int = int(length_str)\n",
    "        decoded.append(s[idx:idx+length_int])\n",
    "        idx += length_int\n",
    "    return decoded"
   ]
  },
  {
   "cell_type": "code",
   "execution_count": 8,
   "id": "5d001ea0",
   "metadata": {},
   "outputs": [
    {
     "name": "stdout",
     "output_type": "stream",
     "text": [
      "5#hello5#world\n",
      "['hello', 'world']\n"
     ]
    }
   ],
   "source": [
    "encoded = encode([\"hello\",\"world\"])\n",
    "print(encoded)\n",
    "decoded = decode(encoded)\n",
    "print(decoded)"
   ]
  },
  {
   "cell_type": "markdown",
   "id": "2eed3ccb",
   "metadata": {},
   "source": []
  },
  {
   "cell_type": "code",
   "execution_count": null,
   "id": "5dac9fb2",
   "metadata": {},
   "outputs": [],
   "source": []
  }
 ],
 "metadata": {
  "kernelspec": {
   "display_name": "Python 3 (ipykernel)",
   "language": "python",
   "name": "python3"
  },
  "language_info": {
   "codemirror_mode": {
    "name": "ipython",
    "version": 3
   },
   "file_extension": ".py",
   "mimetype": "text/x-python",
   "name": "python",
   "nbconvert_exporter": "python",
   "pygments_lexer": "ipython3",
   "version": "3.9.12"
  }
 },
 "nbformat": 4,
 "nbformat_minor": 5
}
