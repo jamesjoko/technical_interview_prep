{
 "cells": [
  {
   "cell_type": "markdown",
   "id": "9270d63d",
   "metadata": {},
   "source": [
    "# Strings\n",
    "## Longest Substring w/o Repeating Characters"
   ]
  },
  {
   "cell_type": "code",
   "execution_count": null,
   "id": "54727885",
   "metadata": {},
   "outputs": [],
   "source": [
    "def lengthOfLongestSubstring(self, s: str) -> int:\n",
    "    seen = {}\n",
    "    abs_max = 0\n",
    "    start = 0\n",
    "    for idx, char in enumerate(s):\n",
    "        if char in seen:\n",
    "            start = max(start, seen[char] + 1)\n",
    "        seen[char] = idx\n",
    "        abs_max = max(abs_max, idx - start + 1)\n",
    "    return abs_max"
   ]
  },
  {
   "cell_type": "markdown",
   "id": "f89b2ba0",
   "metadata": {},
   "source": [
    "## Longest Repeating Character Replacement"
   ]
  },
  {
   "cell_type": "code",
   "execution_count": null,
   "id": "abb1d562",
   "metadata": {},
   "outputs": [],
   "source": [
    "def characterReplacement(self, s: str, k: int) -> int:\n",
    "    seen = {}\n",
    "\n",
    "    result = 0\n",
    "    left = 0\n",
    "    window_max_same_chars = 0\n",
    "\n",
    "    for right, char in enumerate(s):\n",
    "        seen[char] = seen.get(char, 0) + 1\n",
    "        window_max_same_chars = max(window_max_same_chars, seen[char])\n",
    "\n",
    "        # How many characters would we need to change? Is it > k? If so, slide window\n",
    "        if right - left + 1 - window_max_same_chars > k:\n",
    "            seen[s[left]] -= 1\n",
    "            left += 1\n",
    "        else:\n",
    "            result = max(result, right-left+1)\n",
    "    return result"
   ]
  },
  {
   "cell_type": "markdown",
   "id": "751816bd",
   "metadata": {},
   "source": [
    "## Valid Anagram"
   ]
  },
  {
   "cell_type": "code",
   "execution_count": null,
   "id": "27e544e5",
   "metadata": {},
   "outputs": [],
   "source": [
    "def isAnagram(self, s: str, t: str) -> bool:\n",
    "    if len(s) != len(t):\n",
    "        return False\n",
    "    return Counter(s) ==  Counter(t)"
   ]
  },
  {
   "cell_type": "markdown",
   "id": "32b4c5f4",
   "metadata": {},
   "source": [
    "## Valid Parentheses"
   ]
  },
  {
   "cell_type": "code",
   "execution_count": null,
   "id": "fc35448d",
   "metadata": {},
   "outputs": [],
   "source": [
    "def isValid(self, s: str) -> bool:\n",
    "    stack = []\n",
    "    for char in s:\n",
    "        if char == \"(\" or char == \"[\" or char == \"{\":\n",
    "            stack.append(char)\n",
    "        else:\n",
    "            if len(stack) == 0:\n",
    "                return False\n",
    "            end = stack.pop()\n",
    "            if (char == \")\" and end != \"(\") or (char == \"]\" and end != \"[\") or (char == \"}\" and end != \"{\"):\n",
    "                return False\n",
    "    return len(stack) == 0"
   ]
  },
  {
   "cell_type": "markdown",
   "id": "d6cd2cbf",
   "metadata": {},
   "source": [
    "## Valid Palindrome\n"
   ]
  },
  {
   "cell_type": "code",
   "execution_count": null,
   "id": "1e97d5d6",
   "metadata": {},
   "outputs": [],
   "source": [
    "def isPalindrome(self, s: str) -> bool:\n",
    "    s = \"\".join([char for char in s if char.isalnum()]).lower()\n",
    "    return s == s[::-1]"
   ]
  },
  {
   "cell_type": "markdown",
   "id": "ba1568c4",
   "metadata": {},
   "source": [
    "## Group Anagrams"
   ]
  },
  {
   "cell_type": "code",
   "execution_count": null,
   "id": "136ce4b4",
   "metadata": {},
   "outputs": [],
   "source": [
    "def groupAnagrams(self, strs: List[str]) -> List[List[str]]:\n",
    "    words = {}\n",
    "    for word in strs:\n",
    "        root = \"\".join(sorted(word))\n",
    "        if root not in words:\n",
    "            words[root] = [word]\n",
    "        else:    \n",
    "            words[root].append(word)\n",
    "    return words.values()"
   ]
  },
  {
   "cell_type": "markdown",
   "id": "b131bbc7",
   "metadata": {},
   "source": [
    "## Longest Palindromic Substring\n",
    "DP solution is O(N^2) space and time\n",
    "\n",
    "Expand solution is O(N^2) time and O(1) space\n",
    "\n",
    "O(N) runtime and space possible using [Manacher's algorithm](https://en.wikipedia.org/wiki/Longest_palindromic_substring#Manacher's_algorithm)"
   ]
  },
  {
   "cell_type": "code",
   "execution_count": null,
   "id": "ddd81d4e",
   "metadata": {},
   "outputs": [],
   "source": [
    "def longestPalindrome(self, s: str) -> str:\n",
    "    n = len(s)\n",
    "    OPT = [[False] * n for i in range(n)]\n",
    "    result = [0,0]\n",
    "\n",
    "    # Every single character is a palindrome\n",
    "    for i in range(n):\n",
    "        OPT[i][i] = True\n",
    "\n",
    "    # Every pair of same characters is a palindrome\n",
    "    for i in range(1, n):\n",
    "        if s[i-1] == s[i]:\n",
    "            OPT[i-1][i] = True\n",
    "            result = [i-1, i]\n",
    "\n",
    "    # If the two same characters surround a palindrome, it is also a palindrome\n",
    "    for pal_size in range(2, n):\n",
    "        for left in range(n - pal_size):\n",
    "            right = left + pal_size\n",
    "            if OPT[left+1][right-1] and s[left] == s[right]:\n",
    "                OPT[left][right] = True\n",
    "                result = [left, right]\n",
    "\n",
    "    return s[result[0]:result[1]+1]"
   ]
  },
  {
   "cell_type": "code",
   "execution_count": null,
   "id": "faa91fe8",
   "metadata": {},
   "outputs": [],
   "source": [
    "def longestPalindrome(self, s: str) -> str:\n",
    "    def expand(left, right):            \n",
    "        while left >= 0 and right < len(s) and s[left] == s[right]:\n",
    "            left -= 1\n",
    "            right += 1\n",
    "\n",
    "        return right - left - 1\n",
    "\n",
    "    result = [0, 0]\n",
    "\n",
    "    for i in range(len(s)):\n",
    "        odd_length = expand(i, i)\n",
    "        if odd_length > result[1] - result[0] + 1:\n",
    "            dist = odd_length // 2\n",
    "            ans = [i - dist, i + dist]\n",
    "\n",
    "        even_length = expand(i, i + 1)\n",
    "        if even_length > result[1] - result[0] + 1:\n",
    "            dist = (even_length // 2) - 1\n",
    "            ans = [i - dist, i + 1 + dist]\n",
    "\n",
    "    return s[result[0]:result[1] + 1]"
   ]
  }
 ],
 "metadata": {
  "kernelspec": {
   "display_name": "Python 3 (ipykernel)",
   "language": "python",
   "name": "python3"
  },
  "language_info": {
   "codemirror_mode": {
    "name": "ipython",
    "version": 3
   },
   "file_extension": ".py",
   "mimetype": "text/x-python",
   "name": "python",
   "nbconvert_exporter": "python",
   "pygments_lexer": "ipython3",
   "version": "3.9.12"
  }
 },
 "nbformat": 4,
 "nbformat_minor": 5
}
