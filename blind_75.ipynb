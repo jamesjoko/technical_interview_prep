{
 "cells": [
  {
   "cell_type": "markdown",
   "id": "9270d63d",
   "metadata": {},
   "source": [
    "# Strings\n",
    "## Longest Substring w/o Repeating Characters"
   ]
  },
  {
   "cell_type": "code",
   "execution_count": null,
   "id": "54727885",
   "metadata": {},
   "outputs": [],
   "source": [
    "def lengthOfLongestSubstring(self, s: str) -> int:\n",
    "    seen = {}\n",
    "    abs_max = 0\n",
    "    start = 0\n",
    "    for idx, char in enumerate(s):\n",
    "        if char in seen:\n",
    "            start = max(start, seen[char] + 1)\n",
    "        seen[char] = idx\n",
    "        abs_max = max(abs_max, idx - start + 1)\n",
    "    return abs_max"
   ]
  },
  {
   "cell_type": "markdown",
   "id": "751816bd",
   "metadata": {},
   "source": [
    "## Valid Anagram"
   ]
  },
  {
   "cell_type": "code",
   "execution_count": null,
   "id": "27e544e5",
   "metadata": {},
   "outputs": [],
   "source": [
    "def isAnagram(self, s: str, t: str) -> bool:\n",
    "    if len(s) != len(t):\n",
    "        return False\n",
    "    return Counter(s) ==  Counter(t)"
   ]
  },
  {
   "cell_type": "markdown",
   "id": "f7e23bd5",
   "metadata": {},
   "source": [
    "## Valid Parentheses"
   ]
  },
  {
   "cell_type": "code",
   "execution_count": null,
   "id": "95e297c6",
   "metadata": {},
   "outputs": [],
   "source": [
    "def isValid(self, s: str) -> bool:\n",
    "    stack = []\n",
    "    for char in s:\n",
    "        if char == \"(\" or char == \"[\" or char == \"{\":\n",
    "            stack.append(char)\n",
    "        else:\n",
    "            if len(stack) == 0:\n",
    "                return False\n",
    "            end = stack.pop()\n",
    "            if (char == \")\" and end != \"(\") or (char == \"]\" and end != \"[\") or (char == \"}\" and end != \"{\"):\n",
    "                return False\n",
    "    return len(stack) == 0"
   ]
  },
  {
   "cell_type": "markdown",
   "id": "e4727ad2",
   "metadata": {},
   "source": [
    "## Valid Palindrome\n"
   ]
  },
  {
   "cell_type": "code",
   "execution_count": null,
   "id": "4f931c91",
   "metadata": {},
   "outputs": [],
   "source": [
    "def isPalindrome(self, s: str) -> bool:\n",
    "    s = \"\".join([char for char in s if char.isalnum()]).lower()\n",
    "    return s == s[::-1]"
   ]
  }
 ],
 "metadata": {
  "kernelspec": {
   "display_name": "Python 3 (ipykernel)",
   "language": "python",
   "name": "python3"
  },
  "language_info": {
   "codemirror_mode": {
    "name": "ipython",
    "version": 3
   },
   "file_extension": ".py",
   "mimetype": "text/x-python",
   "name": "python",
   "nbconvert_exporter": "python",
   "pygments_lexer": "ipython3",
   "version": "3.9.12"
  }
 },
 "nbformat": 4,
 "nbformat_minor": 5
}
