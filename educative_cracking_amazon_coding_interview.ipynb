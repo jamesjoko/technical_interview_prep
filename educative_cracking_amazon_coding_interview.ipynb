{
 "cells": [
  {
   "cell_type": "markdown",
   "id": "986125cf",
   "metadata": {},
   "source": [
    "# This notebook details my code solutions to the problems in this article https://www.educative.io/blog/crack-amazon-coding-interview-questions"
   ]
  },
  {
   "cell_type": "markdown",
   "id": "8d7be177",
   "metadata": {},
   "source": [
    "## 1. Find the missing number in the array"
   ]
  },
  {
   "cell_type": "markdown",
   "id": "cde460b6",
   "metadata": {},
   "source": [
    "Steps:\n",
    " 1. find the sum of the array\n",
    " 2. find the sum of all integers from 1 to n\n",
    " 3. subtract the number from step 1 from the number from step 2"
   ]
  },
  {
   "cell_type": "code",
   "execution_count": 9,
   "id": "cb639251",
   "metadata": {},
   "outputs": [],
   "source": [
    "arr = [3, 7, 1, 2, 8, 4, 5]"
   ]
  },
  {
   "cell_type": "code",
   "execution_count": 10,
   "id": "e3d80ea1",
   "metadata": {},
   "outputs": [],
   "source": [
    "def find_missing(input):\n",
    "    arr_sum = sum(input)\n",
    "    tot_sum = 0.5 * (len(input) + 1) * (len(input) + 2)\n",
    "    return tot_sum - arr_sum"
   ]
  },
  {
   "cell_type": "code",
   "execution_count": 11,
   "id": "169606f8",
   "metadata": {},
   "outputs": [
    {
     "data": {
      "text/plain": [
       "6.0"
      ]
     },
     "execution_count": 11,
     "metadata": {},
     "output_type": "execute_result"
    }
   ],
   "source": [
    "find_missing(arr)"
   ]
  },
  {
   "cell_type": "markdown",
   "id": "c0af00b4",
   "metadata": {},
   "source": [
    "## 2. Determine if the sum of two integers is equal to the given value"
   ]
  },
  {
   "cell_type": "markdown",
   "id": "2e94d1cd",
   "metadata": {},
   "source": [
    "This problem is two-sum. Initialize a hash-table or set. For each element in the array, if the number exists in the set, then return True, otherwise, intert the difference of current from target in the set."
   ]
  },
  {
   "cell_type": "code",
   "execution_count": 12,
   "id": "74c847c0",
   "metadata": {},
   "outputs": [],
   "source": [
    "arr = [3, 7, 1, 2, 8, 4, 5]"
   ]
  },
  {
   "cell_type": "code",
   "execution_count": 16,
   "id": "d41ac0e9",
   "metadata": {},
   "outputs": [],
   "source": [
    "def find_sum_of_two(A, val):\n",
    "    remainders = set()\n",
    "    for element in A:\n",
    "        if element in remainders:\n",
    "            return True\n",
    "        else:\n",
    "            remainders.add(val-element)\n",
    "    return False"
   ]
  },
  {
   "cell_type": "code",
   "execution_count": 17,
   "id": "dc3eb650",
   "metadata": {},
   "outputs": [
    {
     "name": "stdout",
     "output_type": "stream",
     "text": [
      "True\n",
      "False\n"
     ]
    }
   ],
   "source": [
    "print(find_sum_of_two(arr, 10))\n",
    "print(find_sum_of_two(arr, 19))"
   ]
  },
  {
   "cell_type": "markdown",
   "id": "692a5711",
   "metadata": {},
   "source": [
    "## 3. Merge two sorted linked lists"
   ]
  },
  {
   "cell_type": "code",
   "execution_count": 1,
   "id": "db1617eb",
   "metadata": {},
   "outputs": [],
   "source": [
    "class Node:\n",
    "    def __init__(self, val, next):\n",
    "        self.val = val\n",
    "        self.next = next\n",
    "        \n",
    "def print_list(curr):\n",
    "    if curr == None:\n",
    "        return \"NULL\"\n",
    "    result = \"\"\n",
    "    while curr != None:\n",
    "        result += str(curr.val) + \" --> \"\n",
    "        curr = curr.next\n",
    "    result += \"NULL\"\n",
    "    return result"
   ]
  },
  {
   "cell_type": "code",
   "execution_count": 20,
   "id": "c254418d",
   "metadata": {},
   "outputs": [],
   "source": [
    "l1 = Node(4, Node(8, Node(15, Node(19, None))))\n",
    "l2 = Node(7, Node(9, Node(10, Node(16, None))))"
   ]
  },
  {
   "cell_type": "code",
   "execution_count": 21,
   "id": "2470fd7c",
   "metadata": {},
   "outputs": [
    {
     "data": {
      "text/plain": [
       "'4 --> 8 --> 15 --> 19 --> NULL'"
      ]
     },
     "execution_count": 21,
     "metadata": {},
     "output_type": "execute_result"
    }
   ],
   "source": [
    "print_list(l1)"
   ]
  },
  {
   "cell_type": "code",
   "execution_count": 22,
   "id": "24d73fb5",
   "metadata": {},
   "outputs": [
    {
     "data": {
      "text/plain": [
       "'7 --> 9 --> 10 --> 16 --> NULL'"
      ]
     },
     "execution_count": 22,
     "metadata": {},
     "output_type": "execute_result"
    }
   ],
   "source": [
    "print_list(l2)"
   ]
  },
  {
   "cell_type": "code",
   "execution_count": 23,
   "id": "bcc8749d",
   "metadata": {},
   "outputs": [],
   "source": [
    "def merge_sorted(head1, head2):\n",
    "    if not head1 or not head2:\n",
    "        return None\n",
    "    \n",
    "    result = None\n",
    "    if head1.val <= head2.val:\n",
    "        result = head1\n",
    "        head1 = head1.next\n",
    "    else:\n",
    "        result = head2\n",
    "        head2 = head2.next\n",
    "    \n",
    "#     print(head1.val)\n",
    "#     print(head2.val)\n",
    "    \n",
    "    current = result\n",
    "    while head1 != None and head2 != None:\n",
    "        print(head1.val)\n",
    "        print(head2.val)\n",
    "        if head1.val <= head2.val:\n",
    "            current.next = head1\n",
    "            head1 = head1.next\n",
    "        else:\n",
    "            current.next = head2\n",
    "            head2 = head2.next\n",
    "        current = current.next\n",
    "        \n",
    "    \n",
    "    if head1 == None:\n",
    "        current.next = head2\n",
    "    else:\n",
    "        current.next = head1\n",
    "    \n",
    "    return result"
   ]
  },
  {
   "cell_type": "code",
   "execution_count": 24,
   "id": "9651446b",
   "metadata": {},
   "outputs": [
    {
     "name": "stdout",
     "output_type": "stream",
     "text": [
      "8\n",
      "7\n",
      "8\n",
      "9\n",
      "15\n",
      "9\n",
      "15\n",
      "10\n",
      "15\n",
      "16\n",
      "19\n",
      "16\n"
     ]
    },
    {
     "data": {
      "text/plain": [
       "'4 --> 7 --> 8 --> 9 --> 10 --> 15 --> 16 --> 19 --> NULL'"
      ]
     },
     "execution_count": 24,
     "metadata": {},
     "output_type": "execute_result"
    }
   ],
   "source": [
    "print_list(merge_sorted(l1, l2))"
   ]
  },
  {
   "cell_type": "markdown",
   "id": "722d72b9",
   "metadata": {},
   "source": [
    "## 4. Copy linked list with arbitrary pointer"
   ]
  },
  {
   "cell_type": "markdown",
   "id": "406c0dfd",
   "metadata": {},
   "source": [
    "## 5. Level Order Traversal of Binary Tree\n"
   ]
  },
  {
   "cell_type": "code",
   "execution_count": 43,
   "id": "6daafc22",
   "metadata": {},
   "outputs": [
    {
     "data": {
      "text/plain": [
       "'100 | 50 200 | 25 75 350 | '"
      ]
     },
     "execution_count": 43,
     "metadata": {},
     "output_type": "execute_result"
    }
   ],
   "source": [
    "class Node:\n",
    "    def __init__(self, val, left, right):\n",
    "        self.val = val\n",
    "        self.left = left\n",
    "        self.right = right\n",
    "        \n",
    "tree = Node(100, Node(50, Node(25, None, None), Node(75, None, None)), Node(200, None, Node(350, None, None)))\n",
    "\n",
    "def level_order_traversal(root):\n",
    "    result = \"\"\n",
    "    q1 = []\n",
    "    q2 = []\n",
    "    q1.append(root)\n",
    "    while len(q1) != 0:\n",
    "        while (len(q1) != 0):\n",
    "            curr = q1.pop(0)\n",
    "            result += str(curr.val) + \" \"\n",
    "            if curr.left:\n",
    "                q2.append(curr.left)\n",
    "            if curr.right:\n",
    "                q2.append(curr.right)\n",
    "        result += \"| \"\n",
    "        if (len(q2) == 0):\n",
    "            break\n",
    "        while (len(q2) != 0):\n",
    "            curr = q2.pop(0)\n",
    "            if not curr:\n",
    "                continue\n",
    "            result += str(curr.val) + \" \"\n",
    "            if curr.left:\n",
    "                q1.append(curr.left)\n",
    "            if curr.right:\n",
    "                q1.append(curr.right)\n",
    "        result += \"| \"\n",
    "    return result\n",
    "\n",
    "level_order_traversal(tree)"
   ]
  },
  {
   "cell_type": "markdown",
   "id": "34e3746a",
   "metadata": {},
   "source": [
    "## 6. Determine if a binary tree is a binary search tree\n"
   ]
  },
  {
   "cell_type": "code",
   "execution_count": null,
   "id": "d59705c9",
   "metadata": {},
   "outputs": [],
   "source": []
  },
  {
   "cell_type": "markdown",
   "id": "be9c32f0",
   "metadata": {},
   "source": [
    "## 7. String segmentation\n"
   ]
  },
  {
   "cell_type": "code",
   "execution_count": null,
   "id": "4af7d82b",
   "metadata": {},
   "outputs": [],
   "source": []
  },
  {
   "cell_type": "markdown",
   "id": "7f24e716",
   "metadata": {},
   "source": [
    "## 8. Reverse Words in a Sentence\n"
   ]
  },
  {
   "cell_type": "code",
   "execution_count": 30,
   "id": "46fdb522",
   "metadata": {},
   "outputs": [
    {
     "name": "stdout",
     "output_type": "stream",
     "text": [
      "['World', 'Hello']\n"
     ]
    }
   ],
   "source": [
    "arr = [\"H\",\"e\",\"l\",\"l\",\"o\",\" \",\"W\",\"o\",\"r\",\"l\",\"d\"]\n",
    "\n",
    "def reverse_words(sentence):\n",
    "    sent = \"\".join(sentence)\n",
    "    tokens = sent.split()\n",
    "    tokens.reverse()\n",
    "    return tokens\n",
    "\n",
    "print(reverse_words(arr))"
   ]
  },
  {
   "cell_type": "code",
   "execution_count": null,
   "id": "14c21394",
   "metadata": {},
   "outputs": [],
   "source": []
  }
 ],
 "metadata": {
  "kernelspec": {
   "display_name": "Python 3 (ipykernel)",
   "language": "python",
   "name": "python3"
  },
  "language_info": {
   "codemirror_mode": {
    "name": "ipython",
    "version": 3
   },
   "file_extension": ".py",
   "mimetype": "text/x-python",
   "name": "python",
   "nbconvert_exporter": "python",
   "pygments_lexer": "ipython3",
   "version": "3.9.12"
  }
 },
 "nbformat": 4,
 "nbformat_minor": 5
}
